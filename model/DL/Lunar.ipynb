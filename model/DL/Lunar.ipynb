{
 "cells": [
  {
   "cell_type": "code",
   "execution_count": 1,
   "metadata": {},
   "outputs": [],
   "source": [
    "import pandas as pd\n",
    "import numpy as np\n",
    "import matplotlib.pyplot as plt\n",
    "from sklearn.preprocessing import MinMaxScaler\n",
    "from keras.models import Sequential\n",
    "from keras.layers import LSTM, Dense, Conv1D, MaxPooling1D, Flatten, Dropout\n",
    "from keras.callbacks import EarlyStopping\n"
   ]
  },
  {
   "cell_type": "code",
   "execution_count": 2,
   "metadata": {},
   "outputs": [
    {
     "name": "stdout",
     "output_type": "stream",
     "text": [
      "  time_abs(%Y-%m-%dT%H:%M:%S.%f)  time_rel(sec)  velocity(m/s)\n",
      "0     1970-01-19T00:00:00.665000       0.000000  -6.153279e-14\n",
      "1     1970-01-19T00:00:00.815943       0.150943  -7.701288e-14\n",
      "2     1970-01-19T00:00:00.966887       0.301887  -8.396187e-14\n",
      "3     1970-01-19T00:00:01.117830       0.452830  -8.096155e-14\n",
      "4     1970-01-19T00:00:01.268774       0.603774  -7.097599e-14\n"
     ]
    }
   ],
   "source": [
    "import os\n",
    "\n",
    "# Set the directory for your training data\n",
    "train_data_dir = 'C:/Users/nm_ma/Desktop/space_apps_2024_seismic_detection/data/lunar/training/data/S12_GradeA'\n",
    "\n",
    "# List to hold DataFrames\n",
    "dataframes = []\n",
    "\n",
    "# Loop through all CSV files in the training folder\n",
    "for filename in os.listdir(train_data_dir):\n",
    "    if filename.endswith('.csv'):\n",
    "        file_path = os.path.join(train_data_dir, filename)\n",
    "        df = pd.read_csv(file_path)\n",
    "        dataframes.append(df)\n",
    "\n",
    "# Concatenate all DataFrames into a single DataFrame\n",
    "training_data = pd.concat(dataframes, ignore_index=True)\n",
    "\n",
    "# Display the first few rows of the merged DataFrame\n",
    "print(training_data.head())\n"
   ]
  },
  {
   "cell_type": "code",
   "execution_count": 3,
   "metadata": {},
   "outputs": [
    {
     "data": {
      "text/html": [
       "<div>\n",
       "<style scoped>\n",
       "    .dataframe tbody tr th:only-of-type {\n",
       "        vertical-align: middle;\n",
       "    }\n",
       "\n",
       "    .dataframe tbody tr th {\n",
       "        vertical-align: top;\n",
       "    }\n",
       "\n",
       "    .dataframe thead th {\n",
       "        text-align: right;\n",
       "    }\n",
       "</style>\n",
       "<table border=\"1\" class=\"dataframe\">\n",
       "  <thead>\n",
       "    <tr style=\"text-align: right;\">\n",
       "      <th></th>\n",
       "      <th>time_abs(%Y-%m-%dT%H:%M:%S.%f)</th>\n",
       "      <th>time_rel(sec)</th>\n",
       "      <th>velocity(m/s)</th>\n",
       "    </tr>\n",
       "  </thead>\n",
       "  <tbody>\n",
       "    <tr>\n",
       "      <th>43175424</th>\n",
       "      <td>1975-06-27T00:00:00.843887</td>\n",
       "      <td>86400.301887</td>\n",
       "      <td>-3.982647e-16</td>\n",
       "    </tr>\n",
       "    <tr>\n",
       "      <th>43175425</th>\n",
       "      <td>1975-06-27T00:00:00.994830</td>\n",
       "      <td>86400.452830</td>\n",
       "      <td>-5.580877e-16</td>\n",
       "    </tr>\n",
       "    <tr>\n",
       "      <th>43175426</th>\n",
       "      <td>1975-06-27T00:00:01.145774</td>\n",
       "      <td>86400.603774</td>\n",
       "      <td>-6.563002e-16</td>\n",
       "    </tr>\n",
       "    <tr>\n",
       "      <th>43175427</th>\n",
       "      <td>1975-06-27T00:00:01.296717</td>\n",
       "      <td>86400.754717</td>\n",
       "      <td>-3.281501e-16</td>\n",
       "    </tr>\n",
       "    <tr>\n",
       "      <th>43175428</th>\n",
       "      <td>1975-06-27T00:00:01.447660</td>\n",
       "      <td>86400.905660</td>\n",
       "      <td>0.000000e+00</td>\n",
       "    </tr>\n",
       "  </tbody>\n",
       "</table>\n",
       "</div>"
      ],
      "text/plain": [
       "         time_abs(%Y-%m-%dT%H:%M:%S.%f)  time_rel(sec)  velocity(m/s)\n",
       "43175424     1975-06-27T00:00:00.843887   86400.301887  -3.982647e-16\n",
       "43175425     1975-06-27T00:00:00.994830   86400.452830  -5.580877e-16\n",
       "43175426     1975-06-27T00:00:01.145774   86400.603774  -6.563002e-16\n",
       "43175427     1975-06-27T00:00:01.296717   86400.754717  -3.281501e-16\n",
       "43175428     1975-06-27T00:00:01.447660   86400.905660   0.000000e+00"
      ]
     },
     "execution_count": 3,
     "metadata": {},
     "output_type": "execute_result"
    }
   ],
   "source": [
    "training_data.tail()"
   ]
  },
  {
   "cell_type": "code",
   "execution_count": 4,
   "metadata": {},
   "outputs": [
    {
     "name": "stderr",
     "output_type": "stream",
     "text": [
      "C:\\Users\\nm_ma\\AppData\\Local\\Temp\\ipykernel_17980\\1392278854.py:23: SettingWithCopyWarning: \n",
      "A value is trying to be set on a copy of a slice from a DataFrame\n",
      "\n",
      "See the caveats in the documentation: https://pandas.pydata.org/pandas-docs/stable/user_guide/indexing.html#returning-a-view-versus-a-copy\n",
      "  training_data_df.drop_duplicates(inplace=True)\n"
     ]
    },
    {
     "name": "stdout",
     "output_type": "stream",
     "text": [
      "Labeled Training Data:\n",
      "                    time_abs  time_rel(sec)  velocity(m/s)  target\n",
      "0 1970-01-19 00:00:00.665000       0.000000  -6.153279e-14       0\n",
      "1 1970-01-19 00:00:00.815943       0.150943  -7.701288e-14       0\n",
      "2 1970-01-19 00:00:00.966887       0.301887  -8.396187e-14       0\n",
      "3 1970-01-19 00:00:01.117830       0.452830  -8.096155e-14       0\n",
      "4 1970-01-19 00:00:01.268774       0.603774  -7.097599e-14       0\n"
     ]
    }
   ],
   "source": [
    "\n",
    "def label_matching_rows(training_data_df, catalog_file):\n",
    "    # Read the catalog file\n",
    "    catalog_df = pd.read_csv(catalog_file)\n",
    "\n",
    "    # Ensure the timestamp is in the correct format\n",
    "    catalog_df['time_abs'] = pd.to_datetime(catalog_df['time_abs(%Y-%m-%dT%H:%M:%S.%f)'], format='%Y-%m-%dT%H:%M:%S.%f')\n",
    "\n",
    "    # Convert time_abs in the training DataFrame to datetime format\n",
    "    training_data_df['time_abs'] = pd.to_datetime(training_data_df['time_abs(%Y-%m-%dT%H:%M:%S.%f)'], format='%Y-%m-%dT%H:%M:%S.%f')\n",
    "\n",
    "    # Merge the DataFrames on the time_abs column\n",
    "    merged_df = training_data_df.merge(catalog_df[['time_abs']], on='time_abs', how='left', indicator=True)\n",
    "\n",
    "    # Set target to 1 where there is a match in the catalog\n",
    "    training_data_df['target'] = (merged_df['_merge'] == 'both').astype(int)\n",
    "\n",
    "    # Drop unnecessary columns, including duplicates and the merge indicator\n",
    "    # You can specify which columns you want to keep\n",
    "    columns_to_keep = ['time_abs', 'time_rel(sec)', 'velocity(m/s)', 'target']\n",
    "    training_data_df = training_data_df[columns_to_keep]\n",
    "\n",
    "    # Drop duplicate entries if necessary\n",
    "    training_data_df.drop_duplicates(inplace=True)\n",
    "\n",
    "    return training_data_df\n",
    "\n",
    "\n",
    "# Labeling using the catalog file\n",
    "catalog_file = 'C:/Users/nm_ma/Desktop/space_apps_2024_seismic_detection/data/lunar/training/catalogs/apollo12_catalog_GradeA_final.csv'\n",
    "labeled_training_data = label_matching_rows(training_data, catalog_file)\n",
    "\n",
    "# Display the first few rows of the labeled DataFrame\n",
    "print(\"Labeled Training Data:\")\n",
    "print(labeled_training_data.head())\n"
   ]
  },
  {
   "cell_type": "code",
   "execution_count": 5,
   "metadata": {},
   "outputs": [
    {
     "data": {
      "text/html": [
       "<div>\n",
       "<style scoped>\n",
       "    .dataframe tbody tr th:only-of-type {\n",
       "        vertical-align: middle;\n",
       "    }\n",
       "\n",
       "    .dataframe tbody tr th {\n",
       "        vertical-align: top;\n",
       "    }\n",
       "\n",
       "    .dataframe thead th {\n",
       "        text-align: right;\n",
       "    }\n",
       "</style>\n",
       "<table border=\"1\" class=\"dataframe\">\n",
       "  <thead>\n",
       "    <tr style=\"text-align: right;\">\n",
       "      <th></th>\n",
       "      <th>time_abs</th>\n",
       "      <th>time_rel(sec)</th>\n",
       "      <th>velocity(m/s)</th>\n",
       "      <th>target</th>\n",
       "    </tr>\n",
       "  </thead>\n",
       "  <tbody>\n",
       "    <tr>\n",
       "      <th>43175424</th>\n",
       "      <td>1975-06-27 00:00:00.843887</td>\n",
       "      <td>86400.301887</td>\n",
       "      <td>-3.982647e-16</td>\n",
       "      <td>0</td>\n",
       "    </tr>\n",
       "    <tr>\n",
       "      <th>43175425</th>\n",
       "      <td>1975-06-27 00:00:00.994830</td>\n",
       "      <td>86400.452830</td>\n",
       "      <td>-5.580877e-16</td>\n",
       "      <td>0</td>\n",
       "    </tr>\n",
       "    <tr>\n",
       "      <th>43175426</th>\n",
       "      <td>1975-06-27 00:00:01.145774</td>\n",
       "      <td>86400.603774</td>\n",
       "      <td>-6.563002e-16</td>\n",
       "      <td>0</td>\n",
       "    </tr>\n",
       "    <tr>\n",
       "      <th>43175427</th>\n",
       "      <td>1975-06-27 00:00:01.296717</td>\n",
       "      <td>86400.754717</td>\n",
       "      <td>-3.281501e-16</td>\n",
       "      <td>0</td>\n",
       "    </tr>\n",
       "    <tr>\n",
       "      <th>43175428</th>\n",
       "      <td>1975-06-27 00:00:01.447660</td>\n",
       "      <td>86400.905660</td>\n",
       "      <td>0.000000e+00</td>\n",
       "      <td>0</td>\n",
       "    </tr>\n",
       "  </tbody>\n",
       "</table>\n",
       "</div>"
      ],
      "text/plain": [
       "                           time_abs  time_rel(sec)  velocity(m/s)  target\n",
       "43175424 1975-06-27 00:00:00.843887   86400.301887  -3.982647e-16       0\n",
       "43175425 1975-06-27 00:00:00.994830   86400.452830  -5.580877e-16       0\n",
       "43175426 1975-06-27 00:00:01.145774   86400.603774  -6.563002e-16       0\n",
       "43175427 1975-06-27 00:00:01.296717   86400.754717  -3.281501e-16       0\n",
       "43175428 1975-06-27 00:00:01.447660   86400.905660   0.000000e+00       0"
      ]
     },
     "execution_count": 5,
     "metadata": {},
     "output_type": "execute_result"
    }
   ],
   "source": [
    "labeled_training_data.tail()"
   ]
  },
  {
   "cell_type": "code",
   "execution_count": null,
   "metadata": {},
   "outputs": [],
   "source": []
  }
 ],
 "metadata": {
  "kernelspec": {
   "display_name": "Python 3",
   "language": "python",
   "name": "python3"
  },
  "language_info": {
   "codemirror_mode": {
    "name": "ipython",
    "version": 3
   },
   "file_extension": ".py",
   "mimetype": "text/x-python",
   "name": "python",
   "nbconvert_exporter": "python",
   "pygments_lexer": "ipython3",
   "version": "3.12.1"
  }
 },
 "nbformat": 4,
 "nbformat_minor": 2
}
