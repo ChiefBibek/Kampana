{
 "cells": [
  {
   "cell_type": "code",
   "execution_count": 1,
   "metadata": {},
   "outputs": [],
   "source": [
    "import pandas as pd\n",
    "import numpy as np\n",
    "import matplotlib.pyplot as plt\n",
    "from sklearn.preprocessing import MinMaxScaler\n",
    "from keras.models import Sequential\n",
    "from keras.layers import LSTM, Dense, Dropout , BatchNormalization\n",
    "from keras.callbacks import EarlyStopping , ModelCheckpoint\n",
    "from scipy.signal import butter, lfilter\n"
   ]
  },
  {
   "cell_type": "code",
   "execution_count": 2,
   "metadata": {},
   "outputs": [
    {
     "name": "stdout",
     "output_type": "stream",
     "text": [
      "  time_abs(%Y-%m-%dT%H:%M:%S.%f)  time_rel(sec)  velocity(m/s)\n",
      "0     1970-01-19T00:00:00.665000       0.000000  -6.153279e-14\n",
      "1     1970-01-19T00:00:00.815943       0.150943  -7.701288e-14\n",
      "2     1970-01-19T00:00:00.966887       0.301887  -8.396187e-14\n",
      "3     1970-01-19T00:00:01.117830       0.452830  -8.096155e-14\n",
      "4     1970-01-19T00:00:01.268774       0.603774  -7.097599e-14\n"
     ]
    }
   ],
   "source": [
    "import os\n",
    "\n",
    "\n",
    "training_data = pd.read_csv('C:/Users/nm_ma/Desktop/space_apps_2024_seismic_detection/data/lunar/training/data/S12_GradeA/xa.s12.00.mhz.1970-01-19HR00_evid00002.csv')\n",
    "# Display the first few rows of the merged DataFrame\n",
    "print(training_data.head())\n"
   ]
  },
  {
   "cell_type": "code",
   "execution_count": 3,
   "metadata": {},
   "outputs": [
    {
     "data": {
      "text/html": [
       "<div>\n",
       "<style scoped>\n",
       "    .dataframe tbody tr th:only-of-type {\n",
       "        vertical-align: middle;\n",
       "    }\n",
       "\n",
       "    .dataframe tbody tr th {\n",
       "        vertical-align: top;\n",
       "    }\n",
       "\n",
       "    .dataframe thead th {\n",
       "        text-align: right;\n",
       "    }\n",
       "</style>\n",
       "<table border=\"1\" class=\"dataframe\">\n",
       "  <thead>\n",
       "    <tr style=\"text-align: right;\">\n",
       "      <th></th>\n",
       "      <th>time_abs(%Y-%m-%dT%H:%M:%S.%f)</th>\n",
       "      <th>time_rel(sec)</th>\n",
       "      <th>velocity(m/s)</th>\n",
       "    </tr>\n",
       "  </thead>\n",
       "  <tbody>\n",
       "    <tr>\n",
       "      <th>572410</th>\n",
       "      <td>1970-01-20T00:00:02.174434</td>\n",
       "      <td>86401.509434</td>\n",
       "      <td>-1.472713e-14</td>\n",
       "    </tr>\n",
       "    <tr>\n",
       "      <th>572411</th>\n",
       "      <td>1970-01-20T00:00:02.325377</td>\n",
       "      <td>86401.660377</td>\n",
       "      <td>-1.956104e-14</td>\n",
       "    </tr>\n",
       "    <tr>\n",
       "      <th>572412</th>\n",
       "      <td>1970-01-20T00:00:02.476321</td>\n",
       "      <td>86401.811321</td>\n",
       "      <td>-2.240307e-14</td>\n",
       "    </tr>\n",
       "    <tr>\n",
       "      <th>572413</th>\n",
       "      <td>1970-01-20T00:00:02.627264</td>\n",
       "      <td>86401.962264</td>\n",
       "      <td>-2.998405e-14</td>\n",
       "    </tr>\n",
       "    <tr>\n",
       "      <th>572414</th>\n",
       "      <td>1970-01-20T00:00:02.778208</td>\n",
       "      <td>86402.113208</td>\n",
       "      <td>-4.465515e-14</td>\n",
       "    </tr>\n",
       "  </tbody>\n",
       "</table>\n",
       "</div>"
      ],
      "text/plain": [
       "       time_abs(%Y-%m-%dT%H:%M:%S.%f)  time_rel(sec)  velocity(m/s)\n",
       "572410     1970-01-20T00:00:02.174434   86401.509434  -1.472713e-14\n",
       "572411     1970-01-20T00:00:02.325377   86401.660377  -1.956104e-14\n",
       "572412     1970-01-20T00:00:02.476321   86401.811321  -2.240307e-14\n",
       "572413     1970-01-20T00:00:02.627264   86401.962264  -2.998405e-14\n",
       "572414     1970-01-20T00:00:02.778208   86402.113208  -4.465515e-14"
      ]
     },
     "execution_count": 3,
     "metadata": {},
     "output_type": "execute_result"
    }
   ],
   "source": [
    "training_data.tail()"
   ]
  },
  {
   "cell_type": "code",
   "execution_count": 4,
   "metadata": {},
   "outputs": [
    {
     "name": "stdout",
     "output_type": "stream",
     "text": [
      "Labeled Training Data:\n",
      "                    time_abs  time_rel(sec)  velocity(m/s)  target\n",
      "0 1970-01-19 00:00:00.665000       0.000000  -6.153279e-14       0\n",
      "1 1970-01-19 00:00:00.815943       0.150943  -7.701288e-14       0\n",
      "2 1970-01-19 00:00:00.966887       0.301887  -8.396187e-14       0\n",
      "3 1970-01-19 00:00:01.117830       0.452830  -8.096155e-14       0\n",
      "4 1970-01-19 00:00:01.268774       0.603774  -7.097599e-14       0\n",
      "Target variable counts:\n",
      "target\n",
      "0    572414\n",
      "1         1\n",
      "Name: count, dtype: int64\n"
     ]
    },
    {
     "name": "stderr",
     "output_type": "stream",
     "text": [
      "C:\\Users\\nm_ma\\AppData\\Local\\Temp\\ipykernel_13260\\1912740024.py:34: SettingWithCopyWarning: \n",
      "A value is trying to be set on a copy of a slice from a DataFrame\n",
      "\n",
      "See the caveats in the documentation: https://pandas.pydata.org/pandas-docs/stable/user_guide/indexing.html#returning-a-view-versus-a-copy\n",
      "  training_data_df.drop_duplicates(inplace=True)\n"
     ]
    }
   ],
   "source": [
    "def label_matching_rows(training_data_df, catalog_file):\n",
    "    # Read the catalog file\n",
    "    catalog_df = pd.read_csv(catalog_file)\n",
    "\n",
    "    # Ensure the timestamp in the catalog is in the correct format\n",
    "    catalog_df['time_abs'] = pd.to_datetime(catalog_df['time_abs(%Y-%m-%dT%H:%M:%S.%f)'], format='%Y-%m-%dT%H:%M:%S.%f')\n",
    "\n",
    "    # Convert time_abs in the training DataFrame to datetime format\n",
    "    training_data_df['time_abs'] = pd.to_datetime(training_data_df['time_abs(%Y-%m-%dT%H:%M:%S.%f)'], format='%Y-%m-%dT%H:%M:%S.%f')\n",
    "\n",
    "    # Initialize target column with 0\n",
    "    training_data_df['target'] = 0\n",
    "\n",
    "    # Function to find the first matching row in training data\n",
    "    def find_first_match(cat_time, train_times):\n",
    "        mask = (train_times.dt.year == cat_time.year) & \\\n",
    "               (train_times.dt.month == cat_time.month) & \\\n",
    "               (train_times.dt.day == cat_time.day) & \\\n",
    "               (train_times.dt.hour == cat_time.hour)\n",
    "        matching_indices = mask[mask].index\n",
    "        return matching_indices[0] if len(matching_indices) > 0 else -1\n",
    "\n",
    "    # Set target to 1 for the first matching timestamp for each catalog entry\n",
    "    for catalog_time in catalog_df['time_abs']:\n",
    "        match_idx = find_first_match(catalog_time, training_data_df['time_abs'])\n",
    "        if match_idx != -1:\n",
    "            training_data_df.loc[match_idx, 'target'] = 1\n",
    "\n",
    "    # Drop unnecessary columns, keep only relevant ones\n",
    "    columns_to_keep = ['time_abs', 'time_rel(sec)', 'velocity(m/s)', 'target']\n",
    "    training_data_df = training_data_df[columns_to_keep]\n",
    "\n",
    "    # Drop duplicate entries if necessary\n",
    "    training_data_df.drop_duplicates(inplace=True)\n",
    "\n",
    "    return training_data_df\n",
    "\n",
    "# Example usage:\n",
    "catalog_file = 'C:/Users/nm_ma/Desktop/space_apps_2024_seismic_detection/data/lunar/training/catalogs/apollo12_catalog_GradeA_final.csv'\n",
    "labeled_training_data = label_matching_rows(training_data, catalog_file)\n",
    "\n",
    "# Display the first few rows of the labeled DataFrame\n",
    "print(\"Labeled Training Data:\")\n",
    "print(labeled_training_data.head())\n",
    "\n",
    "# Check counts of target values\n",
    "print(\"Target variable counts:\")\n",
    "print(labeled_training_data['target'].value_counts())\n"
   ]
  },
  {
   "cell_type": "code",
   "execution_count": 5,
   "metadata": {},
   "outputs": [
    {
     "data": {
      "text/html": [
       "<div>\n",
       "<style scoped>\n",
       "    .dataframe tbody tr th:only-of-type {\n",
       "        vertical-align: middle;\n",
       "    }\n",
       "\n",
       "    .dataframe tbody tr th {\n",
       "        vertical-align: top;\n",
       "    }\n",
       "\n",
       "    .dataframe thead th {\n",
       "        text-align: right;\n",
       "    }\n",
       "</style>\n",
       "<table border=\"1\" class=\"dataframe\">\n",
       "  <thead>\n",
       "    <tr style=\"text-align: right;\">\n",
       "      <th></th>\n",
       "      <th>time_abs</th>\n",
       "      <th>time_rel(sec)</th>\n",
       "      <th>velocity(m/s)</th>\n",
       "      <th>target</th>\n",
       "    </tr>\n",
       "  </thead>\n",
       "  <tbody>\n",
       "    <tr>\n",
       "      <th>572410</th>\n",
       "      <td>1970-01-20 00:00:02.174434</td>\n",
       "      <td>86401.509434</td>\n",
       "      <td>-1.472713e-14</td>\n",
       "      <td>0</td>\n",
       "    </tr>\n",
       "    <tr>\n",
       "      <th>572411</th>\n",
       "      <td>1970-01-20 00:00:02.325377</td>\n",
       "      <td>86401.660377</td>\n",
       "      <td>-1.956104e-14</td>\n",
       "      <td>0</td>\n",
       "    </tr>\n",
       "    <tr>\n",
       "      <th>572412</th>\n",
       "      <td>1970-01-20 00:00:02.476321</td>\n",
       "      <td>86401.811321</td>\n",
       "      <td>-2.240307e-14</td>\n",
       "      <td>0</td>\n",
       "    </tr>\n",
       "    <tr>\n",
       "      <th>572413</th>\n",
       "      <td>1970-01-20 00:00:02.627264</td>\n",
       "      <td>86401.962264</td>\n",
       "      <td>-2.998405e-14</td>\n",
       "      <td>0</td>\n",
       "    </tr>\n",
       "    <tr>\n",
       "      <th>572414</th>\n",
       "      <td>1970-01-20 00:00:02.778208</td>\n",
       "      <td>86402.113208</td>\n",
       "      <td>-4.465515e-14</td>\n",
       "      <td>0</td>\n",
       "    </tr>\n",
       "  </tbody>\n",
       "</table>\n",
       "</div>"
      ],
      "text/plain": [
       "                         time_abs  time_rel(sec)  velocity(m/s)  target\n",
       "572410 1970-01-20 00:00:02.174434   86401.509434  -1.472713e-14       0\n",
       "572411 1970-01-20 00:00:02.325377   86401.660377  -1.956104e-14       0\n",
       "572412 1970-01-20 00:00:02.476321   86401.811321  -2.240307e-14       0\n",
       "572413 1970-01-20 00:00:02.627264   86401.962264  -2.998405e-14       0\n",
       "572414 1970-01-20 00:00:02.778208   86402.113208  -4.465515e-14       0"
      ]
     },
     "execution_count": 5,
     "metadata": {},
     "output_type": "execute_result"
    }
   ],
   "source": [
    "labeled_training_data.tail()"
   ]
  },
  {
   "cell_type": "code",
   "execution_count": 6,
   "metadata": {},
   "outputs": [
    {
     "data": {
      "text/plain": [
       "target\n",
       "0    572414\n",
       "1         1\n",
       "Name: count, dtype: int64"
      ]
     },
     "execution_count": 6,
     "metadata": {},
     "output_type": "execute_result"
    }
   ],
   "source": [
    "labeled_training_data['target'].value_counts()"
   ]
  },
  {
   "cell_type": "code",
   "execution_count": 7,
   "metadata": {},
   "outputs": [],
   "source": [
    "def butter_bandpass(lowcut, highcut, fs, order=5):\n",
    "    nyq = 0.5 * fs\n",
    "    low = lowcut / nyq\n",
    "    high = highcut / nyq\n",
    "    b, a = butter(order, [low, high], btype='band')\n",
    "    return b, a\n",
    "\n",
    "def bandpass_filter(data, lowcut, highcut, fs, order=5):\n",
    "    b, a = butter_bandpass(lowcut, highcut, fs, order=order)\n",
    "    y = lfilter(b, a, data)\n",
    "    return y\n"
   ]
  },
  {
   "cell_type": "code",
   "execution_count": 8,
   "metadata": {},
   "outputs": [],
   "source": [
    "# Set filter parameters\n",
    "lowcut = 0.1  # Set low cutoff frequency\n",
    "highcut = 10.0  # Set high cutoff frequency\n",
    "fs = 100.0  # Sample rate (Hz)\n",
    "\n",
    "# Apply filter to the velocity data\n",
    "labeled_training_data['filtered_velocity'] = bandpass_filter(labeled_training_data['velocity(m/s)'].values, lowcut, highcut, fs)\n"
   ]
  },
  {
   "cell_type": "code",
   "execution_count": 9,
   "metadata": {},
   "outputs": [
    {
     "data": {
      "text/html": [
       "<div>\n",
       "<style scoped>\n",
       "    .dataframe tbody tr th:only-of-type {\n",
       "        vertical-align: middle;\n",
       "    }\n",
       "\n",
       "    .dataframe tbody tr th {\n",
       "        vertical-align: top;\n",
       "    }\n",
       "\n",
       "    .dataframe thead th {\n",
       "        text-align: right;\n",
       "    }\n",
       "</style>\n",
       "<table border=\"1\" class=\"dataframe\">\n",
       "  <thead>\n",
       "    <tr style=\"text-align: right;\">\n",
       "      <th></th>\n",
       "      <th>time_abs</th>\n",
       "      <th>time_rel(sec)</th>\n",
       "      <th>velocity(m/s)</th>\n",
       "      <th>target</th>\n",
       "      <th>filtered_velocity</th>\n",
       "    </tr>\n",
       "  </thead>\n",
       "  <tbody>\n",
       "    <tr>\n",
       "      <th>0</th>\n",
       "      <td>1970-01-19 00:00:00.665000</td>\n",
       "      <td>0.000000</td>\n",
       "      <td>-6.153279e-14</td>\n",
       "      <td>0</td>\n",
       "      <td>-7.560920e-17</td>\n",
       "    </tr>\n",
       "    <tr>\n",
       "      <th>1</th>\n",
       "      <td>1970-01-19 00:00:00.815943</td>\n",
       "      <td>0.150943</td>\n",
       "      <td>-7.701288e-14</td>\n",
       "      <td>0</td>\n",
       "      <td>-6.979321e-16</td>\n",
       "    </tr>\n",
       "    <tr>\n",
       "      <th>2</th>\n",
       "      <td>1970-01-19 00:00:00.966887</td>\n",
       "      <td>0.301887</td>\n",
       "      <td>-8.396187e-14</td>\n",
       "      <td>0</td>\n",
       "      <td>-3.122392e-15</td>\n",
       "    </tr>\n",
       "    <tr>\n",
       "      <th>3</th>\n",
       "      <td>1970-01-19 00:00:01.117830</td>\n",
       "      <td>0.452830</td>\n",
       "      <td>-8.096155e-14</td>\n",
       "      <td>0</td>\n",
       "      <td>-9.143711e-15</td>\n",
       "    </tr>\n",
       "    <tr>\n",
       "      <th>4</th>\n",
       "      <td>1970-01-19 00:00:01.268774</td>\n",
       "      <td>0.603774</td>\n",
       "      <td>-7.097599e-14</td>\n",
       "      <td>0</td>\n",
       "      <td>-1.995983e-14</td>\n",
       "    </tr>\n",
       "    <tr>\n",
       "      <th>...</th>\n",
       "      <td>...</td>\n",
       "      <td>...</td>\n",
       "      <td>...</td>\n",
       "      <td>...</td>\n",
       "      <td>...</td>\n",
       "    </tr>\n",
       "    <tr>\n",
       "      <th>572410</th>\n",
       "      <td>1970-01-20 00:00:02.174434</td>\n",
       "      <td>86401.509434</td>\n",
       "      <td>-1.472713e-14</td>\n",
       "      <td>0</td>\n",
       "      <td>8.358008e-14</td>\n",
       "    </tr>\n",
       "    <tr>\n",
       "      <th>572411</th>\n",
       "      <td>1970-01-20 00:00:02.325377</td>\n",
       "      <td>86401.660377</td>\n",
       "      <td>-1.956104e-14</td>\n",
       "      <td>0</td>\n",
       "      <td>7.389166e-14</td>\n",
       "    </tr>\n",
       "    <tr>\n",
       "      <th>572412</th>\n",
       "      <td>1970-01-20 00:00:02.476321</td>\n",
       "      <td>86401.811321</td>\n",
       "      <td>-2.240307e-14</td>\n",
       "      <td>0</td>\n",
       "      <td>5.711657e-14</td>\n",
       "    </tr>\n",
       "    <tr>\n",
       "      <th>572413</th>\n",
       "      <td>1970-01-20 00:00:02.627264</td>\n",
       "      <td>86401.962264</td>\n",
       "      <td>-2.998405e-14</td>\n",
       "      <td>0</td>\n",
       "      <td>3.520667e-14</td>\n",
       "    </tr>\n",
       "    <tr>\n",
       "      <th>572414</th>\n",
       "      <td>1970-01-20 00:00:02.778208</td>\n",
       "      <td>86402.113208</td>\n",
       "      <td>-4.465515e-14</td>\n",
       "      <td>0</td>\n",
       "      <td>1.157815e-14</td>\n",
       "    </tr>\n",
       "  </tbody>\n",
       "</table>\n",
       "<p>572415 rows × 5 columns</p>\n",
       "</div>"
      ],
      "text/plain": [
       "                         time_abs  time_rel(sec)  velocity(m/s)  target  \\\n",
       "0      1970-01-19 00:00:00.665000       0.000000  -6.153279e-14       0   \n",
       "1      1970-01-19 00:00:00.815943       0.150943  -7.701288e-14       0   \n",
       "2      1970-01-19 00:00:00.966887       0.301887  -8.396187e-14       0   \n",
       "3      1970-01-19 00:00:01.117830       0.452830  -8.096155e-14       0   \n",
       "4      1970-01-19 00:00:01.268774       0.603774  -7.097599e-14       0   \n",
       "...                           ...            ...            ...     ...   \n",
       "572410 1970-01-20 00:00:02.174434   86401.509434  -1.472713e-14       0   \n",
       "572411 1970-01-20 00:00:02.325377   86401.660377  -1.956104e-14       0   \n",
       "572412 1970-01-20 00:00:02.476321   86401.811321  -2.240307e-14       0   \n",
       "572413 1970-01-20 00:00:02.627264   86401.962264  -2.998405e-14       0   \n",
       "572414 1970-01-20 00:00:02.778208   86402.113208  -4.465515e-14       0   \n",
       "\n",
       "        filtered_velocity  \n",
       "0           -7.560920e-17  \n",
       "1           -6.979321e-16  \n",
       "2           -3.122392e-15  \n",
       "3           -9.143711e-15  \n",
       "4           -1.995983e-14  \n",
       "...                   ...  \n",
       "572410       8.358008e-14  \n",
       "572411       7.389166e-14  \n",
       "572412       5.711657e-14  \n",
       "572413       3.520667e-14  \n",
       "572414       1.157815e-14  \n",
       "\n",
       "[572415 rows x 5 columns]"
      ]
     },
     "execution_count": 9,
     "metadata": {},
     "output_type": "execute_result"
    }
   ],
   "source": [
    "labeled_training_data"
   ]
  },
  {
   "cell_type": "code",
   "execution_count": 10,
   "metadata": {},
   "outputs": [],
   "source": [
    "scaler = MinMaxScaler(feature_range=(0, 1))\n",
    "labeled_training_data[['filtered_velocity']] = scaler.fit_transform(labeled_training_data[['filtered_velocity']])\n"
   ]
  },
  {
   "cell_type": "code",
   "execution_count": 11,
   "metadata": {},
   "outputs": [],
   "source": [
    "def create_sequences(data, target, time_steps):\n",
    "    X, y = [], []\n",
    "    for i in range(len(data) - time_steps):\n",
    "        X.append(data[i:(i + time_steps)])\n",
    "        y.append(target[i + time_steps])\n",
    "    return np.array(X), np.array(y)\n",
    "\n",
    "# Set time steps\n",
    "time_steps = 10  # Number of time steps to look back\n",
    "X, y = create_sequences(labeled_training_data['filtered_velocity'].values, labeled_training_data['target'].values, time_steps)\n"
   ]
  },
  {
   "cell_type": "code",
   "execution_count": 12,
   "metadata": {},
   "outputs": [],
   "source": [
    "X = X.reshape((X.shape[0], X.shape[1], 1))  # Reshape to [samples, time steps, features]\n"
   ]
  },
  {
   "cell_type": "code",
   "execution_count": 13,
   "metadata": {},
   "outputs": [],
   "source": [
    "from sklearn.model_selection import train_test_split\n",
    "\n",
    "X_train, X_val, y_train, y_val = train_test_split(X, y, test_size=0.2, random_state=42)\n"
   ]
  },
  {
   "cell_type": "code",
   "execution_count": 14,
   "metadata": {},
   "outputs": [
    {
     "name": "stderr",
     "output_type": "stream",
     "text": [
      "C:\\Users\\nm_ma\\AppData\\Roaming\\Python\\Python312\\site-packages\\keras\\src\\layers\\rnn\\rnn.py:204: UserWarning: Do not pass an `input_shape`/`input_dim` argument to a layer. When using Sequential models, prefer using an `Input(shape)` object as the first layer in the model instead.\n",
      "  super().__init__(**kwargs)\n"
     ]
    }
   ],
   "source": [
    "# Define the LSTM model\n",
    "model = Sequential()\n",
    "\n",
    "# First LSTM layer\n",
    "model.add(LSTM(64, input_shape=(X_train.shape[1], X_train.shape[2]), return_sequences=True))\n",
    "model.add(BatchNormalization())\n",
    "model.add(Dropout(0.3))  # Dropout to prevent overfitting\n",
    "\n",
    "# Second LSTM layer\n",
    "model.add(LSTM(32))\n",
    "model.add(BatchNormalization())\n",
    "model.add(Dropout(0.3))  # Dropout to prevent overfitting\n",
    "\n",
    "# Output layer for binary classification\n",
    "model.add(Dense(1, activation='sigmoid'))\n",
    "\n",
    "# Compile the model\n",
    "model.compile(optimizer='adam', loss='binary_crossentropy', metrics=['accuracy'])\n"
   ]
  },
  {
   "cell_type": "code",
   "execution_count": 15,
   "metadata": {},
   "outputs": [],
   "source": [
    "# Early stopping to prevent overfitting\n",
    "early_stopping = EarlyStopping(monitor='val_loss', patience=5, restore_best_weights=True)\n"
   ]
  },
  {
   "cell_type": "code",
   "execution_count": 16,
   "metadata": {},
   "outputs": [
    {
     "name": "stdout",
     "output_type": "stream",
     "text": [
      "Epoch 1/5\n",
      "\u001b[1m14311/14311\u001b[0m \u001b[32m━━━━━━━━━━━━━━━━━━━━\u001b[0m\u001b[37m\u001b[0m \u001b[1m110s\u001b[0m 7ms/step - accuracy: 0.9849 - loss: 0.0439 - val_accuracy: 1.0000 - val_loss: 1.5641e-07\n",
      "Epoch 2/5\n",
      "\u001b[1m14311/14311\u001b[0m \u001b[32m━━━━━━━━━━━━━━━━━━━━\u001b[0m\u001b[37m\u001b[0m \u001b[1m103s\u001b[0m 7ms/step - accuracy: 1.0000 - loss: 4.9107e-05 - val_accuracy: 1.0000 - val_loss: 1.2615e-11\n",
      "Epoch 3/5\n",
      "\u001b[1m14311/14311\u001b[0m \u001b[32m━━━━━━━━━━━━━━━━━━━━\u001b[0m\u001b[37m\u001b[0m \u001b[1m104s\u001b[0m 7ms/step - accuracy: 1.0000 - loss: 3.7791e-05 - val_accuracy: 1.0000 - val_loss: 3.9854e-13\n",
      "Epoch 4/5\n",
      "\u001b[1m14311/14311\u001b[0m \u001b[32m━━━━━━━━━━━━━━━━━━━━\u001b[0m\u001b[37m\u001b[0m \u001b[1m105s\u001b[0m 7ms/step - accuracy: 1.0000 - loss: 1.3910e-05 - val_accuracy: 1.0000 - val_loss: 2.0887e-13\n",
      "Epoch 5/5\n",
      "\u001b[1m14311/14311\u001b[0m \u001b[32m━━━━━━━━━━━━━━━━━━━━\u001b[0m\u001b[37m\u001b[0m \u001b[1m109s\u001b[0m 8ms/step - accuracy: 1.0000 - loss: 6.7483e-05 - val_accuracy: 1.0000 - val_loss: 3.9189e-14\n"
     ]
    }
   ],
   "source": [
    "# Train the model\n",
    "history = model.fit(X_train, y_train, \n",
    "                    epochs=5,  # Set a higher number of epochs\n",
    "                    batch_size=32, \n",
    "                    validation_data=(X_val, y_val), \n",
    "                    callbacks=[early_stopping])\n"
   ]
  },
  {
   "cell_type": "code",
   "execution_count": 17,
   "metadata": {},
   "outputs": [],
   "source": [
    "# Save the model to a file\n",
    "model.save('lunarmodel2.keras')"
   ]
  },
  {
   "cell_type": "code",
   "execution_count": null,
   "metadata": {},
   "outputs": [],
   "source": []
  }
 ],
 "metadata": {
  "kernelspec": {
   "display_name": "Python 3",
   "language": "python",
   "name": "python3"
  },
  "language_info": {
   "codemirror_mode": {
    "name": "ipython",
    "version": 3
   },
   "file_extension": ".py",
   "mimetype": "text/x-python",
   "name": "python",
   "nbconvert_exporter": "python",
   "pygments_lexer": "ipython3",
   "version": "3.12.1"
  }
 },
 "nbformat": 4,
 "nbformat_minor": 2
}
